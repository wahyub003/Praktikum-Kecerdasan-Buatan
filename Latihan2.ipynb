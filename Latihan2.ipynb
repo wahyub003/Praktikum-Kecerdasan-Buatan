{
  "nbformat": 4,
  "nbformat_minor": 0,
  "metadata": {
    "colab": {
      "provenance": []
    },
    "kernelspec": {
      "name": "python3",
      "display_name": "Python 3"
    },
    "language_info": {
      "name": "python"
    }
  },
  "cells": [
    {
      "cell_type": "markdown",
      "source": [
        "**1. Breadth First Search (BFS)**"
      ],
      "metadata": {
        "id": "YQMSk2JTwL3V"
      }
    },
    {
      "cell_type": "code",
      "execution_count": 2,
      "metadata": {
        "id": "q4yJ-JqEaV9x"
      },
      "outputs": [],
      "source": [
        "def bfs(graph, source):\n",
        "  visited = set() \n",
        "  bfs_traversal = list()\n",
        "  queue = list()\n",
        "\n",
        "  queue.append(source)\n",
        "  visited.add(source)\n",
        "\n",
        "  while queue:\n",
        "      current_node = queue.pop(0)\n",
        "      bfs_traversal.append(current_node)\n",
        "\n",
        "      for neighbour_node in graph[current_node]:\n",
        "        if neighbour_node not in visited:\n",
        "          visited.add(neighbour_node)\n",
        "          queue.append(neighbour_node)\n",
        "  return bfs_traversal"
      ]
    },
    {
      "cell_type": "code",
      "source": [
        "def main():\n",
        "    graph = {\n",
        "        'A' : ['B', 'C'],\n",
        "        'B' : ['A', 'D', 'E'],\n",
        "        'C' : ['A', 'F', 'G'],\n",
        "        'D' : ['B'],\n",
        "        'E' : ['B'],\n",
        "        'F' : ['C'],\n",
        "        'G' : ['C']\n",
        "    }\n",
        "\n",
        "    bfs_traversal = bfs(graph, 'A')\n",
        "    print(f\"BFS : {bfs_traversal}\")\n",
        "\n",
        "if __name__=='__main__':\n",
        "  main()"
      ],
      "metadata": {
        "colab": {
          "base_uri": "https://localhost:8080/"
        },
        "id": "uZFu_8pKiog_",
        "outputId": "40c5adc0-79b5-40f1-8982-cb61a8137523"
      },
      "execution_count": 3,
      "outputs": [
        {
          "output_type": "stream",
          "name": "stdout",
          "text": [
            "BFS : ['A', 'B', 'C', 'D', 'E', 'F', 'G']\n"
          ]
        }
      ]
    },
    {
      "cell_type": "markdown",
      "source": [
        "**2. Depth First Search (DFS)**"
      ],
      "metadata": {
        "id": "ByYJItc1wRtz"
      }
    },
    {
      "cell_type": "code",
      "source": [
        "def dfs(graph, source, visited, dfs_traversal):\n",
        "  if source not in visited:\n",
        "    dfs_traversal.append(source)\n",
        "    visited.add(source)\n",
        "\n",
        "    for neighbour_node in graph[source] :\n",
        "      dfs(graph, neighbour_node, visited, dfs_traversal)\n",
        "  return dfs_traversal"
      ],
      "metadata": {
        "id": "Xs29P0pZmNG-"
      },
      "execution_count": 4,
      "outputs": []
    },
    {
      "cell_type": "code",
      "source": [
        "def main():\n",
        "  visited = set()\n",
        "  dfs_traversal =list()\n",
        "  graph = {\n",
        "      'A' : ['B', 'C'],\n",
        "      'B' : ['D', 'E'],\n",
        "      'C' : ['F', 'G'],\n",
        "      'D' : [],\n",
        "      'E' : [],\n",
        "      'F' : [],\n",
        "      'G' : []\n",
        "  }\n",
        "  print(f\"DFS: {dfs(graph, 'A', visited, dfs_traversal)}\")\n",
        "\n",
        "if __name__=='__main__':\n",
        "  main()"
      ],
      "metadata": {
        "colab": {
          "base_uri": "https://localhost:8080/"
        },
        "id": "V7Uysn8Inb8w",
        "outputId": "fb828594-c2b7-49cb-c0f5-388625ee7b21"
      },
      "execution_count": 5,
      "outputs": [
        {
          "output_type": "stream",
          "name": "stdout",
          "text": [
            "DFS: ['A', 'B', 'D', 'E', 'C', 'F', 'G']\n"
          ]
        }
      ]
    },
    {
      "cell_type": "markdown",
      "source": [
        "**3. Uniform Cost Search (UCS)**"
      ],
      "metadata": {
        "id": "MLScLg6pwTWL"
      }
    },
    {
      "cell_type": "code",
      "source": [
        "def  uniform_cost_search(goal, start):\n",
        "\n",
        "    global graph,cost\n",
        "    answer = []\n",
        "\n",
        "    queue = []\n",
        "\n",
        "    for i in range(len(goal)):\n",
        "        answer.append(10**8)\n",
        " \n",
        "    queue.append([0, start])\n",
        "\n",
        "    visited = {}\n",
        " \n",
        "    count = 0\n",
        "\n",
        "    while (len(queue) > 0):\n",
        "\n",
        "        queue = sorted(queue)\n",
        "        p = queue[-1]\n",
        "\n",
        "        del queue[-1]\n",
        " \n",
        "        p[0] *= -1\n",
        " \n",
        "        if (p[1] in goal):\n",
        "\n",
        "            index = goal.index(p[1])\n",
        "\n",
        "            if (answer[index] == 10**8):\n",
        "                count += 1\n",
        "\n",
        "            if (answer[index] > p[0]):\n",
        "                answer[index] = p[0]\n",
        "\n",
        "            del queue[-1]\n",
        " \n",
        "            queue = sorted(queue)\n",
        "            if (count == len(goal)):\n",
        "                return answer\n",
        "\n",
        "        if (p[1] not in visited):\n",
        "            for i in range(len(graph[p[1]])):\n",
        " \n",
        "                queue.append( [(p[0] + cost[(p[1], graph[p[1]][i])])* -1, graph[p[1]][i]])\n",
        " \n",
        "        visited[p[1]] = 1\n",
        " \n",
        "    return answer\n"
      ],
      "metadata": {
        "id": "sFA7rkyVph7T"
      },
      "execution_count": 1,
      "outputs": []
    },
    {
      "cell_type": "code",
      "source": [
        "if __name__ == '__main__':\n",
        "     \n",
        "    graph,cost = [[] for i in range(8)],{}\n",
        "    # add edge\n",
        "    graph[0].append(1)\n",
        "    graph[0].append(3)\n",
        "    graph[3].append(1)\n",
        "    graph[3].append(6)\n",
        "    graph[3].append(4)\n",
        "    graph[1].append(6)\n",
        "    graph[4].append(2)\n",
        "    graph[4].append(5)\n",
        "    graph[2].append(1)\n",
        "    graph[5].append(2)\n",
        "    graph[5].append(6)\n",
        "    graph[6].append(4)\n",
        "    # add the cost\n",
        "    cost[(0, 1)] = 2\n",
        "    cost[(0, 3)] = 5\n",
        "    cost[(1, 6)] = 1\n",
        "    cost[(3, 1)] = 5\n",
        "    cost[(3, 6)] = 6\n",
        "    cost[(3, 4)] = 2\n",
        "    cost[(2, 1)] = 4\n",
        "    cost[(4, 2)] = 4\n",
        "    cost[(4, 5)] = 3\n",
        "    cost[(5, 2)] = 6\n",
        "    cost[(5, 6)] = 3\n",
        "    cost[(6, 4)] = 7\n",
        " \n",
        "    goal = []\n",
        "    goal.append(6)\n",
        "    answer = uniform_cost_search(goal, 0)\n",
        "    print(\"Minimum cost from 0 to 6 is = \",answer[0])"
      ],
      "metadata": {
        "colab": {
          "base_uri": "https://localhost:8080/"
        },
        "id": "FmJUYOBQfo7G",
        "outputId": "9d5283fc-4bb0-481c-a243-4b450901632f"
      },
      "execution_count": 2,
      "outputs": [
        {
          "output_type": "stream",
          "name": "stdout",
          "text": [
            "Minimum cost from 0 to 6 is =  3\n"
          ]
        }
      ]
    },
    {
      "cell_type": "markdown",
      "source": [
        "**4. Iterative Deepening Depth First Search**"
      ],
      "metadata": {
        "id": "Ol8i_JW6Z-VU"
      }
    },
    {
      "cell_type": "code",
      "source": [
        "from collections import defaultdict\n",
        " \n",
        "class Graph:\n",
        " \n",
        "    def __init__(self):\n",
        " \n",
        "        self.V = vertices\n",
        "        self.graph = defaultdict(list)\n",
        " \n",
        "    def addEdge(self,u,v):\n",
        "        self.graph[u].append(v)\n",
        " \n",
        "    def DFS(self, src, target, maxDepth):\n",
        "        if src == target : return True\n",
        "        if maxDepth <= 0 : return False\n",
        "     \n",
        "        for i in self.graph[src]:\n",
        "            if (self.DSL(i, target, maxDepth-1)):\n",
        "                return True\n",
        "            return False \n",
        " "
      ],
      "metadata": {
        "id": "akQ0IK9haBxs"
      },
      "execution_count": 5,
      "outputs": []
    },
    {
      "cell_type": "code",
      "source": [
        "   def IDDFS(self, src, target, maxDepth):\n",
        "\n",
        "        for i in range(maxDepth):\n",
        "            if (self.DSL(src, target, i)):\n",
        "                return True\n",
        "        return False\n",
        " \n",
        " \n",
        "        g = Graph(7)\n",
        "        g.addEdge(0, 1)\n",
        "        g.addEdge(0, 2)\n",
        "        g.addEdge(0, 4)\n",
        "        g.addEdge(1, 3)\n",
        "        g.addEdge(1, 5)\n",
        "        g.addEdge(2, 6)\n",
        "\n",
        "        target = 6; maxDepth = 3; src = 0\n",
        "\n",
        "        if g.IDDFS(src, target, maxDepth) == True:\n",
        "            print (\"Target is reachable form source\" + \"with max depth\")\n",
        "        else :\n",
        "            print (\"Target is NOT reachable form source\" + \"with max depth\")\n",
        "            "
      ],
      "metadata": {
        "id": "5-1JPLBPf4Ox"
      },
      "execution_count": 6,
      "outputs": []
    },
    {
      "cell_type": "markdown",
      "source": [
        "**5. Bidirectional Search**"
      ],
      "metadata": {
        "id": "pqwZ9tjSeuBU"
      }
    },
    {
      "cell_type": "code",
      "source": [
        "class AdjacentNode:\n",
        "     \n",
        "    def __init__(self, vertex):\n",
        "         \n",
        "        self.vertex = vertex\n",
        "        self.next = None\n",
        "\n",
        "class BidirectionalSearch:\n",
        "     \n",
        "    def __init__(self, vertices):\n",
        "\n",
        "        self.vertices = vertices\n",
        "        self.graph = [None] * self.vertices\n",
        "\n",
        "        self.src_queue = list()\n",
        "        self.dest_queue = list()\n",
        "\n",
        "        self.src_visited = [False] * self.vertices\n",
        "        self.dest_visited = [False] * self.vertices\n",
        "\n",
        "        self.src_parent = [None] * self.vertices\n",
        "        self.dest_parent = [None] * self.vertices\n",
        "\n",
        "    def add_edge(self, src, dest):\n",
        "\n",
        "        node = AdjacentNode(dest)\n",
        "        node.next = self.graph[src]\n",
        "        self.graph[src] = node\n",
        "\n",
        "        node = AdjacentNode(src)\n",
        "        node.next = self.graph[dest]\n",
        "        self.graph[dest] = node\n",
        "\n",
        "    def bfs(self, direction = 'forward'):\n",
        "         \n",
        "        if direction == 'forward':\n",
        "\n",
        "            current = self.src_queue.pop(0)\n",
        "            connected_node = self.graph[current]\n",
        "             \n",
        "            while connected_node:\n",
        "                vertex = connected_node.vertex\n",
        "                 \n",
        "                if not self.src_visited[vertex]:\n",
        "                    self.src_queue.append(vertex)\n",
        "                    self.src_visited[vertex] = True\n",
        "                    self.src_parent[vertex] = current\n",
        "                     \n",
        "                connected_node = connected_node.next\n",
        "        else:\n",
        "\n",
        "            current = self.dest_queue.pop(0)\n",
        "            connected_node = self.graph[current]\n",
        "             \n",
        "            while connected_node:\n",
        "                vertex = connected_node.vertex\n",
        "                 \n",
        "                if not self.dest_visited[vertex]:\n",
        "                    self.dest_queue.append(vertex)\n",
        "                    self.dest_visited[vertex] = True\n",
        "                    self.dest_parent[vertex] = current\n",
        "                     \n",
        "                connected_node = connected_node.next\n",
        "\n",
        "    def is_intersecting(self):\n",
        "\n",
        "        for i in range(self.vertices):\n",
        "            if (self.src_visited[i] and\n",
        "                self.dest_visited[i]):\n",
        "                return i\n",
        "                 \n",
        "        return -1\n",
        "\n",
        "    def print_path(self, intersecting_node,\n",
        "                   src, dest):\n",
        "\n",
        "        path = list()\n",
        "        path.append(intersecting_node)\n",
        "        i = intersecting_node\n",
        "         \n",
        "        while i != src:\n",
        "            path.append(self.src_parent[i])\n",
        "            i = self.src_parent[i]\n",
        "             \n",
        "        path = path[::-1]\n",
        "        i = intersecting_node\n",
        "         \n",
        "        while i != dest:\n",
        "            path.append(self.dest_parent[i])\n",
        "            i = self.dest_parent[i]\n",
        "             \n",
        "        print(\"*****Path*****\")\n",
        "        path = list(map(str, path))\n",
        "         \n",
        "        print(' '.join(path))\n",
        "\n",
        "    def bidirectional_search(self, src, dest):\n",
        "\n",
        "        self.src_queue.append(src)\n",
        "        self.src_visited[src] = True\n",
        "        self.src_parent[src] = -1\n",
        "\n",
        "        self.dest_queue.append(dest)\n",
        "        self.dest_visited[dest] = True\n",
        "        self.dest_parent[dest] = -1\n",
        "        while self.src_queue and self.dest_queue:\n",
        "            self.bfs(direction = 'forward')\n",
        "            self.bfs(direction = 'backward')\n",
        "            intersecting_node = self.is_intersecting()\n",
        "            if intersecting_node != -1:\n",
        "                print(f\"Path exists between {src} and {dest}\")\n",
        "                print(f\"Intersection at : {intersecting_node}\")\n",
        "                self.print_path(intersecting_node,\n",
        "                                src, dest)\n",
        "                exit(0)\n",
        "        return -1\n",
        " \n",
        "\n",
        "if __name__ == '__main__':\n",
        "\n",
        "    n = 15\n",
        "    src = 0\n",
        "    dest = 14\n",
        "\n",
        "    graph = BidirectionalSearch(n)\n",
        "    graph.add_edge(0, 4)\n",
        "    graph.add_edge(1, 4)\n",
        "    graph.add_edge(2, 5)\n",
        "    graph.add_edge(3, 5)\n",
        "    graph.add_edge(4, 6)\n",
        "    graph.add_edge(5, 6)\n",
        "    graph.add_edge(6, 7)\n",
        "    graph.add_edge(7, 8)\n",
        "    graph.add_edge(8, 9)\n",
        "    graph.add_edge(8, 10)\n",
        "    graph.add_edge(9, 11)\n",
        "    graph.add_edge(9, 12)\n",
        "    graph.add_edge(10, 13)\n",
        "    graph.add_edge(10, 14)\n",
        "     \n",
        "    out = graph.bidirectional_search(src, dest)\n",
        "     \n",
        "    if out == -1:\n",
        "        print(f\"Path does not exist between {src} and {dest}\")\n",
        " "
      ],
      "metadata": {
        "colab": {
          "base_uri": "https://localhost:8080/"
        },
        "id": "mi4xfcOXey3j",
        "outputId": "b638d196-5a10-42e7-c360-73fd029ca601"
      },
      "execution_count": 8,
      "outputs": [
        {
          "output_type": "stream",
          "name": "stdout",
          "text": [
            "Path exists between 0 and 14\n",
            "Intersection at : 7\n",
            "*****Path*****\n",
            "0 4 6 7 8 10 14\n",
            "Path exists between 0 and 14\n",
            "Intersection at : 7\n",
            "*****Path*****\n",
            "0 4 6 7 8 10 14\n",
            "Path exists between 0 and 14\n",
            "Intersection at : 6\n",
            "*****Path*****\n",
            "0 4 6 7 8 10 14\n",
            "Path exists between 0 and 14\n",
            "Intersection at : 6\n",
            "*****Path*****\n",
            "0 4 6 7 8 10 14\n",
            "Path exists between 0 and 14\n",
            "Intersection at : 6\n",
            "*****Path*****\n",
            "0 4 6 7 8 10 14\n",
            "Path exists between 0 and 14\n",
            "Intersection at : 4\n",
            "*****Path*****\n",
            "0 4 6 7 8 10 14\n",
            "Path exists between 0 and 14\n",
            "Intersection at : 2\n",
            "*****Path*****\n",
            "0 4 6 5 2 5 6 7 8 10 14\n",
            "Path exists between 0 and 14\n",
            "Intersection at : 0\n",
            "*****Path*****\n",
            "0 4 6 7 8 10 14\n",
            "Path exists between 0 and 14\n",
            "Intersection at : 0\n",
            "*****Path*****\n",
            "0 4 6 7 8 10 14\n",
            "Path exists between 0 and 14\n",
            "Intersection at : 0\n",
            "*****Path*****\n",
            "0 4 6 7 8 10 14\n",
            "Path exists between 0 and 14\n",
            "Intersection at : 0\n",
            "*****Path*****\n",
            "0 4 6 7 8 10 14\n",
            "Path exists between 0 and 14\n",
            "Intersection at : 0\n",
            "*****Path*****\n",
            "0 4 6 7 8 10 14\n",
            "Path does not exist between 0 and 14\n"
          ]
        }
      ]
    }
  ]
}